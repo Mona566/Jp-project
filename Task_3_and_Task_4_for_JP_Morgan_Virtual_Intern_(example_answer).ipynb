{
  "nbformat": 4,
  "nbformat_minor": 0,
  "metadata": {
    "colab": {
      "provenance": []
    },
    "kernelspec": {
      "name": "python3",
      "display_name": "Python 3"
    },
    "language_info": {
      "name": "python"
    }
  },
  "cells": [
    {
      "cell_type": "markdown",
      "source": [
        "# Task 3 for JP Morgan Virtual Intern"
      ],
      "metadata": {
        "id": "lgPSzbDUP6k_"
      }
    },
    {
      "cell_type": "code",
      "execution_count": null,
      "metadata": {
        "id": "ohng9KM4P5vq"
      },
      "outputs": [],
      "source": [
        "from sklearn.linear_model import LogisticRegression\n",
        "from sklearn import metrics\n",
        "import numpy as np\n",
        "import pandas as pd"
      ]
    },
    {
      "cell_type": "code",
      "source": [
        "# Read in loan data from a CSV file\n",
        "df = pd.read_csv('https://raw.githubusercontent.com/LeiZhu315/JP_Morgan_Storage_Contract_Pricing_Proj/main/Task%203%20and%204_Loan_Data.csv')\n",
        "\n",
        "# Define the variable features\n",
        "features = ['credit_lines_outstanding', 'debt_to_income', 'payment_to_income', 'years_employed', 'fico_score']\n",
        "\n",
        "# Calculate the payment_to_income ratio\n",
        "df['payment_to_income'] = df['loan_amt_outstanding'] / df['income']\n",
        "\n",
        "# Calculate the debt_to_income ratio\n",
        "df['debt_to_income'] = df['total_debt_outstanding'] / df['income']"
      ],
      "metadata": {
        "id": "l6ceSkSDQQib"
      },
      "execution_count": null,
      "outputs": []
    },
    {
      "cell_type": "code",
      "source": [
        "clf = LogisticRegression(random_state=0, solver='liblinear', tol=1e-5, max_iter=10000).fit(df[features], df['default'])\n",
        "print(clf.coef_, clf.intercept_)\n",
        "\n",
        "# Use the following code to check yourself\n",
        "y_pred = clf.predict(df[features])\n",
        "\n",
        "fpr, tpr, thresholds = metrics.roc_curve(df['default'], y_pred)\n",
        "print((1.0*(abs(df['default']-y_pred)).sum()) / len(df))\n",
        "print(metrics.auc(fpr, tpr))\n"
      ],
      "metadata": {
        "colab": {
          "base_uri": "https://localhost:8080/"
        },
        "id": "VzUQvg_iQmp0",
        "outputId": "1a683107-8ee3-4322-aabe-b91b1a3d545c"
      },
      "execution_count": null,
      "outputs": [
        {
          "output_type": "stream",
          "name": "stdout",
          "text": [
            "[[ 8.18520373  0.54490854  0.01994244 -2.77630853 -0.02418391]] [-0.09162643]\n",
            "0.0037\n",
            "0.9925106069101026\n"
          ]
        }
      ]
    },
    {
      "cell_type": "markdown",
      "source": [
        "# Task 4 for JP Morgan Virtual Intern"
      ],
      "metadata": {
        "id": "DyP7wLM4Q5zr"
      }
    },
    {
      "cell_type": "code",
      "source": [
        "import pandas as pd\n",
        "from math import log\n",
        "df = pd.read_csv('https://raw.githubusercontent.com/LeiZhu315/JP_Morgan_Storage_Contract_Pricing_Proj/main/Task%203%20and%204_Loan_Data.csv')\n",
        "\n",
        "x = df['default'].to_list()\n",
        "y = df['fico_score'].to_list()\n",
        "n = len(x)\n",
        "print (len(x), len(y))\n",
        "\n",
        "default = [0 for i in range(851)]\n",
        "total = [0 for i in range(851)]\n"
      ],
      "metadata": {
        "colab": {
          "base_uri": "https://localhost:8080/"
        },
        "id": "fTpjwO7GQ922",
        "outputId": "fd64ee0f-9d27-406b-951a-a92ab6b8c066"
      },
      "execution_count": null,
      "outputs": [
        {
          "output_type": "stream",
          "name": "stdout",
          "text": [
            "10000 10000\n"
          ]
        }
      ]
    },
    {
      "cell_type": "code",
      "source": [
        "for i in range(n):\n",
        "    y[i] = int(y[i])\n",
        "    default[y[i]-300] += x[i]\n",
        "    total[y[i]-300] += 1\n",
        "\n",
        "for i in range(0, 551):\n",
        "    default[i] += default[i-1]\n",
        "    total[i] += total[i-1]\n",
        "\n",
        "import numpy as np\n",
        "\n",
        "def log_likelihood(n, k):\n",
        "    p = k/n\n",
        "    if (p==0 or p==1):\n",
        "        return 0\n",
        "    return k*np.log(p)+ (n-k)*np.log(1-p)\n",
        "\n",
        "r = 10\n",
        "dp = [[[-10**18, 0] for i in range(551)] for j in range(r+1)]\n",
        "\n",
        "for i in range(r+1):\n",
        "    for j in range(551):\n",
        "        if (i==0):\n",
        "            dp[i][j][0] = 0\n",
        "        else:\n",
        "            for k in range(j):\n",
        "                if (total[j]==total[k]):\n",
        "                    continue\n",
        "                if (i==1):\n",
        "                    dp[i][j][0] = log_likelihood(total[j], default[j])\n",
        "                else:\n",
        "                    if (dp[i][j][0] < (dp[i-1][k][0] + log_likelihood(total[j]-total[k], default[j] - default[k]))):\n",
        "                        dp[i][j][0] = log_likelihood(total[j]-total[k], default[j]-default[k]) + dp[i-1][k][0]\n",
        "                        dp[i][j][1] = k\n",
        "\n",
        "print (round(dp[r][550][0], 4))\n",
        "\n",
        "k = 550\n",
        "l = []\n",
        "while r >= 0:\n",
        "    l.append(k+300)\n",
        "    k = dp[r][k][1]\n",
        "    r -= 1\n",
        "\n",
        "print(l)"
      ],
      "metadata": {
        "colab": {
          "base_uri": "https://localhost:8080/"
        },
        "id": "MiaWD99YRSrM",
        "outputId": "340d0749-996b-4d57-ba7e-f43b96b951e8"
      },
      "execution_count": null,
      "outputs": [
        {
          "output_type": "stream",
          "name": "stdout",
          "text": [
            "-4217.8245\n",
            "[850, 753, 752, 732, 696, 649, 611, 580, 552, 520, 300]\n"
          ]
        }
      ]
    }
  ]
}